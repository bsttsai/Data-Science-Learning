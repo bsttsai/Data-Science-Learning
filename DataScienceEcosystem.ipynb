{
 "cells": [
  {
   "cell_type": "markdown",
   "id": "4b86a866-2ad1-4b79-b518-1b2272838502",
   "metadata": {},
   "source": [
    "# Data Science Tools and Ecosystem"
   ]
  },
  {
   "cell_type": "markdown",
   "id": "b0022254-063f-4ca7-8f95-d21f20bc8608",
   "metadata": {},
   "source": [
    "In this note book, Data Science Tools and Ecosystem are summarized."
   ]
  },
  {
   "cell_type": "markdown",
   "id": "af436476-9932-49ef-a1dd-190deafe0d05",
   "metadata": {},
   "source": [
    "**Objectives:**\n",
    "* List popular languages for Data Science\n",
    "* List common tools & libraries for Data Science\n",
    "* Show example of arithmetic expressions in Python using Jupyter Notebook"
   ]
  },
  {
   "cell_type": "markdown",
   "id": "bfa5d470-6422-4937-8699-6992d665f150",
   "metadata": {},
   "source": [
    "Some of the popular languages that Data Scientists use are:\n",
    "1. Python\n",
    "2. R\n",
    "3. JavaScript"
   ]
  },
  {
   "cell_type": "markdown",
   "id": "d9c250a6-309a-46c5-8624-0ce15911aa7d",
   "metadata": {
    "tags": []
   },
   "source": [
    "Some of the commonly used libraries used by Data Scientists include:\n",
    "* Scientifics Computing\n",
    "    1. Pandas\n",
    "    2. NumPy\n",
    "* Visualization\n",
    "    1. Matplotlib\n",
    "    2. Seaborn\n",
    "* Machine & Deep Learning\n",
    "    1. Scikit-learn\n",
    "    2. Keras\n",
    "    3. TensorFlow\n",
    "    4. PyTorch"
   ]
  },
  {
   "cell_type": "markdown",
   "id": "2c181a59-38b4-452c-bf33-158e1a95d213",
   "metadata": {},
   "source": [
    "| Data Science Tools |\n",
    "|:-------------------|\n",
    "| Jupyter Notebook   |\n",
    "| RStudio            |\n",
    "| VS Code            |"
   ]
  },
  {
   "cell_type": "markdown",
   "id": "d3b2bf77-30cb-455d-8779-5b905a14544a",
   "metadata": {},
   "source": [
    "### Below are a few examples of evaluating arithmetic expressions in Python."
   ]
  },
  {
   "cell_type": "code",
   "execution_count": 4,
   "id": "d762d517-b682-45fe-87dd-059f8d022cb0",
   "metadata": {
    "tags": []
   },
   "outputs": [
    {
     "data": {
      "text/plain": [
       "17"
      ]
     },
     "execution_count": 4,
     "metadata": {},
     "output_type": "execute_result"
    }
   ],
   "source": [
    "# This a simple arithmetic expression to mutiply then add integers.\n",
    "(3*4)+5"
   ]
  },
  {
   "cell_type": "code",
   "execution_count": 10,
   "id": "e12d3a74-b919-43b6-94b2-57f0b9026c5d",
   "metadata": {
    "tags": []
   },
   "outputs": [
    {
     "name": "stdout",
     "output_type": "stream",
     "text": [
      "3.3333333333333335\n"
     ]
    }
   ],
   "source": [
    "# This will convert 200 minutes to hours by diving by 60.\n",
    "mins = 200\n",
    "hours = mins / 60\n",
    "print(hours)"
   ]
  },
  {
   "cell_type": "markdown",
   "id": "f0514cb5-c4c2-400d-ba23-5a0c5684cc35",
   "metadata": {},
   "source": [
    "## Author\n",
    "Bing-Shiuan Tsai"
   ]
  }
 ],
 "metadata": {
  "kernelspec": {
   "display_name": "Python 3 (ipykernel)",
   "language": "python",
   "name": "python3"
  },
  "language_info": {
   "codemirror_mode": {
    "name": "ipython",
    "version": 3
   },
   "file_extension": ".py",
   "mimetype": "text/x-python",
   "name": "python",
   "nbconvert_exporter": "python",
   "pygments_lexer": "ipython3",
   "version": "3.11.4"
  }
 },
 "nbformat": 4,
 "nbformat_minor": 5
}
